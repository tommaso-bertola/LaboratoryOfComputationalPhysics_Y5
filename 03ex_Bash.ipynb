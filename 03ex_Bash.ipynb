{
 "cells": [
  {
   "cell_type": "markdown",
   "id": "ff02567b",
   "metadata": {},
   "source": [
    "The following exercises are meant to be solved by gathering the bash commands incrimentally in two scripts, one for ex 1.* the other for ex 2.* "
   ]
  },
  {
   "cell_type": "markdown",
<<<<<<< HEAD
   "id": "4e60de78",
=======
   "id": "26d7ef81",
>>>>>>> 56684b6f14613f037b93189c61e9546a61aff76b
   "metadata": {},
   "source": [
    "### Ex 1"
   ]
  },
  {
   "cell_type": "markdown",
   "id": "099f7f26",
   "metadata": {},
   "source": [
    "1\\.a Make a new directory called `students` in your home. Download a csv file with the list of students of this lab from [here](https://www.dropbox.com/s/867rtx3az6e9gm8/LCP_22-23_students.csv) (use the `wget` command) and copy that to `students`. First check whether the file is already there"
   ]
  },
  {
   "cell_type": "markdown",
   "id": "49a582cd",
   "metadata": {},
   "source": [
    "1\\.b Make two new files, one containing the students belonging to PoD, the other to Physics."
   ]
  },
  {
   "cell_type": "markdown",
   "id": "ba5865c7",
   "metadata": {},
   "source": [
    "1\\.c For each letter of the alphabet, count the number of students whose surname starts with that letter. "
   ]
  },
  {
   "cell_type": "markdown",
   "id": "6ffbbddb",
   "metadata": {},
   "source": [
    "1\\.d Find out which is the letter with most counts."
   ]
  },
  {
   "cell_type": "markdown",
<<<<<<< HEAD
   "id": "086a043c",
=======
   "id": "1d914dce",
>>>>>>> 56684b6f14613f037b93189c61e9546a61aff76b
   "metadata": {},
   "source": [
    "1\\.e Assume an obvious numbering of the students in the file (first line is 1, second line is 2, etc.), group students \"modulo 18\", i.e. 1,19,37,.. 2,20,38,.. etc. and put each group in a separate file  "
   ]
  },
  {
   "cell_type": "markdown",
<<<<<<< HEAD
   "id": "1d730d21",
=======
   "id": "25bfcd63",
>>>>>>> 56684b6f14613f037b93189c61e9546a61aff76b
   "metadata": {},
   "source": [
    "### Ex 2"
   ]
  },
  {
   "cell_type": "markdown",
   "id": "3defc187",
   "metadata": {},
   "source": [
    "2.a Make a copy of the file `data.csv` removing the metadata and the commas between numbers; call it `data.txt`"
   ]
  },
  {
   "cell_type": "markdown",
   "id": "c5eab9a1",
   "metadata": {},
   "source": [
    "2\\.b How many even numbers are there?"
   ]
  },
  {
   "cell_type": "markdown",
   "id": "4937ae60",
   "metadata": {},
   "source": [
    "2\\.c Distinguish the entries on the basis of `sqrt(X^2 + Y^2 + Z^2)` is greater or smaller than `100*sqrt(3)/2`. Count the entries of each of the two groups "
   ]
  },
  {
   "cell_type": "markdown",
   "id": "fbc9fae2",
   "metadata": {},
   "source": [
    "2\\.d Make `n` copies of data.txt (with `n` an input parameter of the script), where the i-th copy has all the numbers divided by i (with `1<=i<=n`)."
   ]
  }
 ],
 "metadata": {
  "kernelspec": {
   "display_name": "Python 3 (ipykernel)",
   "language": "python",
   "name": "python3"
  },
  "language_info": {
   "codemirror_mode": {
    "name": "ipython",
    "version": 3
   },
   "file_extension": ".py",
   "mimetype": "text/x-python",
   "name": "python",
   "nbconvert_exporter": "python",
   "pygments_lexer": "ipython3",
   "version": "3.9.12"
  }
 },
 "nbformat": 4,
 "nbformat_minor": 5
}
