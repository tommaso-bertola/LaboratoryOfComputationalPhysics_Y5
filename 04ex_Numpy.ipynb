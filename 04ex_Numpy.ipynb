{
 "cells": [
  {
   "cell_type": "markdown",
   "metadata": {},
   "source": [
    "### Numpy basics"
   ]
  },
  {
   "cell_type": "markdown",
   "metadata": {},
   "source": [
    "1\\. Find the row, column and overall means for the following matrix:\n",
    "\n",
    "```python\n",
    "m = np.arange(12).reshape((3,4))\n",
    "```"
   ]
  },
  {
   "cell_type": "code",
   "execution_count": 66,
   "metadata": {},
   "outputs": [],
   "source": [
    "import numpy as np\n",
    "import matplotlib.pyplot as plt "
   ]
  },
  {
   "cell_type": "code",
   "execution_count": 18,
   "metadata": {},
   "outputs": [
    {
     "name": "stdout",
     "output_type": "stream",
     "text": [
      "M: [[ 0  1  2  3]\n",
      " [ 4  5  6  7]\n",
      " [ 8  9 10 11]]\n",
      "Column mean: [4. 5. 6. 7.]\n",
      "Row mean: [1.5 5.5 9.5]\n",
      "Mean: 5.5\n"
     ]
    }
   ],
   "source": [
    "m = np.arange(12).reshape((3,4))\n",
    "\n",
    "print('M:', m)\n",
    "print('Column mean:', m.mean(axis=0))\n",
    "print('Row mean:', m.mean(axis=1))\n",
    "print('Mean:', m.mean())"
   ]
  },
  {
   "cell_type": "markdown",
   "metadata": {},
   "source": [
    "2\\. Find the outer product of the following two vecotrs\n",
    "\n",
    "```python\n",
    "u = np.array([1,3,5,7])\n",
    "v = np.array([2,4,6,8])\n",
    "```\n",
    "\n",
    "Do this in the following ways:\n",
    "\n",
    "   * Using the function outer in numpy\n",
    "   * Using a nested for loop or list comprehension\n",
    "   * Using numpy broadcasting operatoins\n"
   ]
  },
  {
   "cell_type": "code",
   "execution_count": 19,
   "metadata": {},
   "outputs": [
    {
     "data": {
      "text/plain": [
       "(array([[ 2,  4,  6,  8],\n",
       "        [ 6, 12, 18, 24],\n",
       "        [10, 20, 30, 40],\n",
       "        [14, 28, 42, 56]]),\n",
       " [[2, 4, 6, 8], [6, 12, 18, 24], [10, 20, 30, 40], [14, 28, 42, 56]],\n",
       " array([[ 2,  4,  6,  8],\n",
       "        [ 6, 12, 18, 24],\n",
       "        [10, 20, 30, 40],\n",
       "        [14, 28, 42, 56]]))"
      ]
     },
     "execution_count": 19,
     "metadata": {},
     "output_type": "execute_result"
    }
   ],
   "source": [
    "u = np.array([1,3,5,7])\n",
    "v = np.array([2,4,6,8])\n",
    "w1 = np.outer(u,v)\n",
    "w2 = [[i*j for i in v] for j in u]\n",
    "w3 = u[:,np.newaxis]*v\n",
    "\n",
    "w1,w2,w3"
   ]
  },
  {
   "cell_type": "markdown",
   "metadata": {},
   "source": [
    "3\\. Create a 10 by 6 matrix of random uniform numbers. Set all rows with any entry less than 0.1 to be zero\n",
    "\n",
    "Hint: Use the following numpy functions - np.random.random, np.any as well as Boolean indexing and the axis argument."
   ]
  },
  {
   "cell_type": "code",
   "execution_count": 63,
   "metadata": {},
   "outputs": [
    {
     "data": {
      "text/plain": [
       "array([[0.3012254 , 0.11440739, 0.88320043, 0.75422955, 0.61407181,\n",
       "        0.95098258],\n",
       "       [0.69838932, 0.56813763, 0.93833588, 0.76100839, 0.4109163 ,\n",
       "        0.1363905 ],\n",
       "       [0.        , 0.        , 0.        , 0.        , 0.        ,\n",
       "        0.        ],\n",
       "       [0.        , 0.        , 0.        , 0.        , 0.        ,\n",
       "        0.        ],\n",
       "       [0.37465292, 0.77003665, 0.659541  , 0.35412531, 0.94759112,\n",
       "        0.28834576],\n",
       "       [0.46022086, 0.70904112, 0.66414692, 0.85721079, 0.1429656 ,\n",
       "        0.7372368 ],\n",
       "       [0.95459921, 0.42898851, 0.57416731, 0.80515993, 0.27852853,\n",
       "        0.9203893 ],\n",
       "       [0.30893972, 0.4289894 , 0.61563504, 0.89910016, 0.87070462,\n",
       "        0.80878401],\n",
       "       [0.        , 0.        , 0.        , 0.        , 0.        ,\n",
       "        0.        ],\n",
       "       [0.19981027, 0.68614836, 0.27228298, 0.55547996, 0.99418459,\n",
       "        0.72233876]])"
      ]
     },
     "execution_count": 63,
     "metadata": {},
     "output_type": "execute_result"
    }
   ],
   "source": [
    "m=np.random.random(60).reshape(10,6) #create the big matrix\n",
    "n=np.copy(m)\n",
    "mask=m<=0.1 # find the mask of elements smaller than 0.1\n",
    "mask_row=np.any(mask,  axis=1) # find the mask for the rows containing at least one 0 element\n",
    "m[mask_row]=0 # set all the rows elements to 0, based on the row mask\n",
    "m"
   ]
  },
  {
   "cell_type": "markdown",
   "metadata": {},
   "source": [
    "4\\. Use np.linspace to create an array of 100 numbers between 0 and 2π (includsive).\n",
    "\n",
    "  * Extract every 10th element using slice notation\n",
    "  * Reverse the array using slice notation\n",
    "  * Extract elements where the absolute difference between the sine and cosine functions evaluated at that element is less than 0.1\n",
    "  * Make a plot showing the sin and cos functions and indicate where they are close"
   ]
  },
  {
   "cell_type": "code",
   "execution_count": 85,
   "metadata": {},
   "outputs": [
    {
     "data": {
      "image/png": "[encoded data removed]",
      "text/plain": [
       "<Figure size 432x288 with 1 Axes>"
      ]
     },
     "metadata": {
      "needs_background": "light"
     },
     "output_type": "display_data"
    },
    {
     "name": "stdout",
     "output_type": "stream",
     "text": [
      "[0.         0.06346652 0.12693304 0.19039955 0.25386607 0.31733259\n",
      " 0.38079911 0.44426563 0.50773215 0.57119866 0.63466518 0.6981317\n",
      " 0.76159822 0.82506474 0.88853126 0.95199777 1.01546429 1.07893081\n",
      " 1.14239733 1.20586385 1.26933037 1.33279688 1.3962634  1.45972992\n",
      " 1.52319644 1.58666296 1.65012947 1.71359599 1.77706251 1.84052903\n",
      " 1.90399555 1.96746207 2.03092858 2.0943951  2.15786162 2.22132814\n",
      " 2.28479466 2.34826118 2.41172769 2.47519421 2.53866073 2.60212725\n",
      " 2.66559377 2.72906028 2.7925268  2.85599332 2.91945984 2.98292636\n",
      " 3.04639288 3.10985939 3.17332591 3.23679243 3.30025895 3.36372547\n",
      " 3.42719199 3.4906585  3.55412502 3.61759154 3.68105806 3.74452458\n",
      " 3.8079911  3.87145761 3.93492413 3.99839065 4.06185717 4.12532369\n",
      " 4.1887902  4.25225672 4.31572324 4.37918976 4.44265628 4.5061228\n",
      " 4.56958931 4.63305583 4.69652235 4.75998887 4.82345539 4.88692191\n",
      " 4.95038842 5.01385494 5.07732146 5.14078798 5.2042545  5.26772102\n",
      " 5.33118753 5.39465405 5.45812057 5.52158709 5.58505361 5.64852012\n",
      " 5.71198664 5.77545316 5.83891968 5.9023862  5.96585272 6.02931923\n",
      " 6.09278575 6.15625227 6.21971879 6.28318531]\n",
      "[0.         0.63466518 1.26933037 1.90399555 2.53866073 3.17332591\n",
      " 3.8079911  4.44265628 5.07732146 5.71198664]\n",
      "[6.28318531 6.21971879 6.15625227 6.09278575 6.02931923 5.96585272\n",
      " 5.9023862  5.83891968 5.77545316 5.71198664 5.64852012 5.58505361\n",
      " 5.52158709 5.45812057 5.39465405 5.33118753 5.26772102 5.2042545\n",
      " 5.14078798 5.07732146 5.01385494 4.95038842 4.88692191 4.82345539\n",
      " 4.75998887 4.69652235 4.63305583 4.56958931 4.5061228  4.44265628\n",
      " 4.37918976 4.31572324 4.25225672 4.1887902  4.12532369 4.06185717\n",
      " 3.99839065 3.93492413 3.87145761 3.8079911  3.74452458 3.68105806\n",
      " 3.61759154 3.55412502 3.4906585  3.42719199 3.36372547 3.30025895\n",
      " 3.23679243 3.17332591 3.10985939 3.04639288 2.98292636 2.91945984\n",
      " 2.85599332 2.7925268  2.72906028 2.66559377 2.60212725 2.53866073\n",
      " 2.47519421 2.41172769 2.34826118 2.28479466 2.22132814 2.15786162\n",
      " 2.0943951  2.03092858 1.96746207 1.90399555 1.84052903 1.77706251\n",
      " 1.71359599 1.65012947 1.58666296 1.52319644 1.45972992 1.3962634\n",
      " 1.33279688 1.26933037 1.20586385 1.14239733 1.07893081 1.01546429\n",
      " 0.95199777 0.88853126 0.82506474 0.76159822 0.6981317  0.63466518\n",
      " 0.57119866 0.50773215 0.44426563 0.38079911 0.31733259 0.25386607\n",
      " 0.19039955 0.12693304 0.06346652 0.        ]\n",
      "[0.76159822 0.82506474 3.87145761 3.93492413]\n"
     ]
    }
   ],
   "source": [
    "x=np.linspace(0,2*np.pi, 100)\n",
    "ext=x[::10]\n",
    "rev=x[::-1]\n",
    "adi=x[abs(np.sin(x)-np.cos(x))<0.1]\n",
    "\n",
    "x,ext,rev,adi\n",
    "\n",
    "plt.plot(x, np.cos(x), label='cos')\n",
    "plt.plot(x, np.sin(x), label='sin')\n",
    "plt.plot(x, np.sin(x)-np.cos(x), label='sin-cos')\n",
    "plt.scatter(x, np.sin(x)-np.cos(x), s=5)\n",
    "\n",
    "plt.legend()\n",
    "plt.axhline(0.1)\n",
    "plt.axhline(-0.1)\n",
    "plt.show()\n",
    "\n",
    "print(x,ext,rev,adi, sep='\\n')"
   ]
  },
  {
   "cell_type": "markdown",
   "metadata": {},
   "source": [
    "5\\. Create a matrix that shows the 10 by 10 multiplication table.\n",
    "\n",
    " * Find the trace of the matrix\n",
    " * Extract the anto-diagonal (this should be ```array([10, 18, 24, 28, 30, 30, 28, 24, 18, 10])```)\n",
    " * Extract the diagnoal offset by 1 upwards (this should be ```array([ 2,  6, 12, 20, 30, 42, 56, 72, 90])```)"
   ]
  },
  {
   "cell_type": "code",
   "execution_count": 99,
   "metadata": {},
   "outputs": [
    {
     "data": {
      "text/plain": [
       "(385,\n",
       " array([10, 18, 24, 28, 30, 30, 28, 24, 18, 10]),\n",
       " array([ 2,  6, 12, 20, 30, 42, 56, 72, 90]))"
      ]
     },
     "execution_count": 99,
     "metadata": {},
     "output_type": "execute_result"
    }
   ],
   "source": [
    "a=np.arange(1,11)\n",
    "b=np.copy(a[:, np.newaxis])\n",
    "mult=a*b\n",
    "tracemat=np.trace(mult)\n",
    "antidiag=np.diag(np.fliplr(mult))\n",
    "offsetdi=np.diag(mult, k=1)\n",
    "tracemat, antidiag, offsetdi"
   ]
  },
  {
   "cell_type": "markdown",
   "metadata": {},
   "source": [
    "6\\. Use broadcasting to create a grid of distances\n",
    "\n",
    "Route 66 crosses the following cities in the US: Chicago, Springfield, Saint-Louis, Tulsa, Oklahoma City, Amarillo, Santa Fe, Albuquerque, Flagstaff, Los Angeles\n",
    "The corresponding positions in miles are: 0, 198, 303, 736, 871, 1175, 1475, 1544, 1913, 2448\n",
    "\n",
    "  * Construct a 2D grid of distances among each city along Route 66\n",
    "  * Convert that in km (those savages...)"
   ]
  },
  {
   "cell_type": "code",
   "execution_count": 122,
   "metadata": {},
   "outputs": [
    {
     "name": "stdout",
     "output_type": "stream",
     "text": [
      "[[    0.   -316.8  -484.8 -1177.6 -1393.6 -1880.  -2360.  -2470.4 -3060.8\n",
      "  -3916.8]\n",
      " [  316.8     0.   -168.   -860.8 -1076.8 -1563.2 -2043.2 -2153.6 -2744.\n",
      "  -3600. ]\n",
      " [  484.8   168.      0.   -692.8  -908.8 -1395.2 -1875.2 -1985.6 -2576.\n",
      "  -3432. ]\n",
      " [ 1177.6   860.8   692.8     0.   -216.   -702.4 -1182.4 -1292.8 -1883.2\n",
      "  -2739.2]\n",
      " [ 1393.6  1076.8   908.8   216.      0.   -486.4  -966.4 -1076.8 -1667.2\n",
      "  -2523.2]\n",
      " [ 1880.   1563.2  1395.2   702.4   486.4     0.   -480.   -590.4 -1180.8\n",
      "  -2036.8]\n",
      " [ 2360.   2043.2  1875.2  1182.4   966.4   480.      0.   -110.4  -700.8\n",
      "  -1556.8]\n",
      " [ 2470.4  2153.6  1985.6  1292.8  1076.8   590.4   110.4     0.   -590.4\n",
      "  -1446.4]\n",
      " [ 3060.8  2744.   2576.   1883.2  1667.2  1180.8   700.8   590.4     0.\n",
      "   -856. ]\n",
      " [ 3916.8  3600.   3432.   2739.2  2523.2  2036.8  1556.8  1446.4   856.\n",
      "      0. ]]\n"
     ]
    }
   ],
   "source": [
    "cities='Chicago, Springfield, Saint-Louis, Tulsa, Oklahoma City, Amarillo, Santa Fe, Albuquerque, Flagstaff, Los Angeles'\n",
    "dist='0, 198, 303, 736, 871, 1175, 1475, 1544, 1913, 2448'\n",
    "\n",
    "dist=np.array([int(i.lstrip()) for i in dist.split(',')])\n",
    "cities=np.array([i.lstrip() for i in cities.split(',')])\n",
    "\n",
    "tab=(dist[:, np.newaxis]-dist)*1.6\n",
    "print(tab)"
   ]
  },
  {
   "cell_type": "markdown",
   "metadata": {},
   "source": [
    "7\\. Prime numbers sieve: compute the prime numbers in the 0-N (N=99 to start with) range with a sieve (mask).\n",
    "  * Constract a shape (100,) boolean array, the mask\n",
    "  * Identify the multiples of each number starting from 2 and set accordingly the corresponding mask element\n",
    "  * Apply the mask to obtain an array of ordered prime numbers\n",
    "  * Check the performances (timeit); how does it scale with N?\n",
    "  * Implement the optimization suggested in the [sieve of Eratosthenes](https://en.wikipedia.org/wiki/Sieve_of_Eratosthenes)"
   ]
  },
  {
   "cell_type": "code",
   "execution_count": 140,
   "metadata": {},
   "outputs": [
    {
     "name": "stdout",
     "output_type": "stream",
     "text": [
      "901 µs ± 886 ns per loop (mean ± std. dev. of 7 runs, 1000 loops each)\n"
     ]
    }
   ],
   "source": [
    "%%timeit\n",
    "N=100\n",
    "\n",
    "mask=np.ones(N-1, dtype=np.bool)\n",
    "num=np.arange(0,N-1)\n",
    "\n",
    "mask[0]=False\n",
    "for j in range(2,N):\n",
    "    for i in range(2,N):\n",
    "        if i*j<num.shape[0]:\n",
    "            mask[i*j]=False\n",
    "num[mask]"
   ]
  },
  {
   "cell_type": "code",
   "execution_count": 142,
   "metadata": {},
   "outputs": [
    {
     "name": "stdout",
     "output_type": "stream",
     "text": [
      "105 ms ± 1.26 ms per loop (mean ± std. dev. of 7 runs, 10 loops each)\n"
     ]
    }
   ],
   "source": [
    "%%timeit\n",
    "N=1000\n",
    "\n",
    "mask=np.ones(N-1, dtype=np.bool)\n",
    "num=np.arange(0,N-1)\n",
    "\n",
    "mask[0]=False\n",
    "for j in range(2,N):\n",
    "    for i in range(2,N):\n",
    "        if i*j<num.shape[0]:\n",
    "            mask[i*j]=False\n",
    "num[mask]"
   ]
  },
  {
   "cell_type": "code",
   "execution_count": 143,
   "metadata": {},
   "outputs": [
    {
     "name": "stdout",
     "output_type": "stream",
     "text": [
      "10.3 s ± 24 ms per loop (mean ± std. dev. of 7 runs, 1 loop each)\n"
     ]
    }
   ],
   "source": [
    "%%timeit\n",
    "N=10000\n",
    "\n",
    "mask=np.ones(N-1, dtype=np.bool)\n",
    "num=np.arange(0,N-1)\n",
    "\n",
    "mask[0]=False\n",
    "for j in range(2,N):\n",
    "    for i in range(2,N):\n",
    "        if i*j<num.shape[0]:\n",
    "            mask[i*j]=False\n",
    "num[mask]"
   ]
  },
  {
   "cell_type": "markdown",
   "metadata": {},
   "source": [
    "**N.B. the following exercises are meant to be solved only if you are familiar with the numpy random library. If not you can skip them (postponed for one of the next exercise sessions)**\n"
   ]
  },
  {
   "cell_type": "markdown",
   "metadata": {},
   "source": [
    "8\\. Diffusion using random walk\n",
    "\n",
    "Consider a simple random walk process: at each step in time, a walker jumps right or left (+1 or -1) with equal probability. The goal is to find the typical distance from the origin of a random walker after a given amount of time. \n",
    "To do that, let's simulate many walkers and create a 2D array with each walker as a raw and the actual time evolution as columns\n",
    "\n",
    "  * Take 1000 walkers and let them walk for 200 steps\n",
    "  * Use randint to create a 2D array of size walkers x steps with values -1 or 1\n",
    "  * Build the actual walking distances for each walker (i.e. another 2D array \"summing on each raw\")\n",
    "  * Take the square of that 2D array (elementwise)\n",
    "  * Compute the mean of the squared distances at each step (i.e. the mean along the columns)\n",
    "  * Plot the average distances (sqrt(distance\\*\\*2)) as a function of time (step)\n",
    "  \n",
    "Did you get what you expected?"
   ]
  },
  {
   "cell_type": "code",
   "execution_count": 177,
   "metadata": {},
   "outputs": [
    {
     "data": {
      "text/plain": [
       "[<matplotlib.lines.Line2D at 0x7fa58a9aad30>]"
      ]
     },
     "execution_count": 177,
     "metadata": {},
     "output_type": "execute_result"
    },
    {
     "data": {
      "image/png": "[encoded data removed]",
      "text/plain": [
       "<Figure size 432x288 with 1 Axes>"
      ]
     },
     "metadata": {
      "needs_background": "light"
     },
     "output_type": "display_data"
    }
   ],
   "source": [
    "walkers=np.random.randint(2, size=(1000,200))*2-1\n",
    "distance=np.cumsum(walkers, axis=0)\n",
    "squared=(distance*distance)\n",
    "avg=np.mean(squared, axis=0)\n",
    "plt.plot(np.arange(0,200),avg)"
   ]
  },
  {
   "cell_type": "code",
   "execution_count": null,
   "metadata": {},
   "outputs": [],
   "source": []
  },
  {
   "cell_type": "markdown",
   "metadata": {},
   "source": [
    "9\\. Analyze a data file \n",
    "  * Download the population of hares, lynxes and carrots at the beginning of the last century.\n",
    "    ```python\n",
    "    ! wget https://www.dropbox.com/s/3vigxoqayo389uc/populations.txt\n",
    "    ```\n",
    "\n",
    "  * Check the content by looking within the file\n",
    "  * Load the data (use an appropriate numpy method) into a 2D array\n",
    "  * Create arrays out of the columns, the arrays being (in order): *year*, *hares*, *lynxes*, *carrots* \n",
    "  * Plot the 3 populations over the years\n",
    "  * Compute the main statistical properties of the dataset (mean, std, correlations, etc.)\n",
    "  * Which species has the highest population each year?\n",
    "\n",
    "Do you feel there is some evident correlation here? [Studies](https://www.enr.gov.nt.ca/en/services/lynx/lynx-snowshoe-hare-cycle) tend to believe so."
   ]
  }
 ],
 "metadata": {
  "kernelspec": {
   "display_name": "Python 3",
   "language": "python",
   "name": "python3"
  },
  "language_info": {
   "codemirror_mode": {
    "name": "ipython",
    "version": 3
   },
   "file_extension": ".py",
   "mimetype": "text/x-python",
   "name": "python",
   "nbconvert_exporter": "python",
   "pygments_lexer": "ipython3",
   "version": "3.6.8"
  }
 },
 "nbformat": 4,
 "nbformat_minor": 2
}
