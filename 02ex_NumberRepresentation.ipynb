{
 "cells": [
  {
   "cell_type": "markdown",
   "metadata": {},
   "source": [
    "1\\. Write a function that converts number representation, bin<->dec<->hex. (Clearly using the corresponding python built-in functions is not fair..)"
   ]
  },
  {
   "cell_type": "code",
   "execution_count": 1,
   "metadata": {},
   "outputs": [
    {
     "data": {
      "text/plain": [
       "('101010', 42, 5, 'FADC0E')"
      ]
     },
     "execution_count": 1,
     "metadata": {},
     "output_type": "execute_result"
    }
   ],
   "source": [
    "def DecToBin(n):\n",
    "    remainders=[]\n",
    "    while int(n)>0:\n",
    "        remainders.append(str(n%2))\n",
    "        n=n//2\n",
    "    return \"\".join(remainders[::-1])\n",
    "    \n",
    "def BinToDec(s):\n",
    "    d=0\n",
    "    for i,c in enumerate(s[::-1]):\n",
    "        d+=int(c)*2**i\n",
    "    return d\n",
    "\n",
    "def DecToHex(n):\n",
    "    remainders=[]\n",
    "    while int(n)>0:\n",
    "        remainder=n%16\n",
    "        if remainder<10:\n",
    "            remainders.append(str(remainder))\n",
    "        else:\n",
    "            remainders.append(str(chr(55+remainder)))\n",
    "        n=n//16\n",
    "    return \"\".join(remainders[::-1])\n",
    "    \n",
    "def HexToDec(s):\n",
    "    d=0\n",
    "    for i,c in enumerate(s[::-1]):\n",
    "        if c.isdigit():\n",
    "            d+=int(c)*16**i\n",
    "        else:\n",
    "            d+=int(ord(c)-55)*16**i\n",
    "    return d\n",
    "\n",
    "def HexToBin(s):\n",
    "    return DecToBin(HexToDec(s))\n",
    "\n",
    "def BinToHex(s):\n",
    "    return DecToHex(BinToDec(s))\n",
    "\n",
    "DecToBin(42), BinToDec(DecToBin(42)), BinToDec('000101'), DecToHex(HexToDec('FADC0E'))"
   ]
  },
  {
   "cell_type": "markdown",
   "metadata": {},
   "source": [
    "2\\. Write a function that converts a 32 bit word into a single precision floating point (i.e. interprets the various bits as sign, mantissa and exponent)\n",
    "\n",
    "Take a look [here](https://www.h-schmidt.net/FloatConverter/IEEE754.html) to check"
   ]
  },
  {
   "cell_type": "code",
   "execution_count": 2,
   "metadata": {},
   "outputs": [
    {
     "name": "stdout",
     "output_type": "stream",
     "text": [
      "sgn 0\n",
      "exp 133\n",
      "man 4718592\n",
      "d_man 0.5625\n",
      "Word: 1120403456 \n",
      "Number: 100.0\n"
     ]
    }
   ],
   "source": [
    "def WordToFloat(s):\n",
    "    '''\n",
    "    This function takes a word as input and returns the float values it \n",
    "    stands for.\n",
    "    \n",
    "    A word is defined as an integer value returned by a sensor.\n",
    "    Such word/integer value has to be parsed according to the IEEE-754\n",
    "    standard.\n",
    "    \n",
    "    MSB\n",
    "    1-bit:   sign\n",
    "    8-bits:  exponent, with bias of -127\n",
    "    23-bits: mantissa\n",
    "    LSB\n",
    "    \n",
    "    Special care should be taken when the exponent bits are all set\n",
    "    to 0, as a different convention is used to express the number '0',\n",
    "    namely a bias of -126 is used and the addition of the hidden '1' \n",
    "    bit to the mantissa is not performed.\n",
    "    '''\n",
    "    sgn_mask=2147483648\n",
    "    exp_mask=2139095040\n",
    "    man_mask=8388607\n",
    "    \n",
    "    sgn=(s&sgn_mask)>>31\n",
    "    exp=(s&exp_mask)>>23\n",
    "    man=(s&man_mask)\n",
    "    \n",
    "    d_man=man/(2**23)\n",
    "    print('sgn',sgn)\n",
    "    print('exp',exp)\n",
    "    print('man', man)\n",
    "    print('d_man', d_man)\n",
    "    if exp!=0:\n",
    "        return ((-1)**sgn)*(2**(exp-127))*(1+d_man)\n",
    "    else:\n",
    "        return ((-1)**sgn)*(2**(exp-126))*(d_man)\n",
    "\n",
    "word=int('01000010110010000000000000000000',2)\n",
    "print('Word:',word, '\\nNumber:', WordToFloat(word))"
   ]
  },
  {
   "cell_type": "code",
   "execution_count": 3,
   "metadata": {},
   "outputs": [
    {
     "name": "stdout",
     "output_type": "stream",
     "text": [
      "     2147483648\t10000000000000000000000000000000\n",
      "     2139095040\t01111111100000000000000000000000\n",
      "        8388607\t00000000011111111111111111111111\n",
      "     3655860223\t11011001111001111111111111111111\n",
      "              1\t00000000000000000000000000000001\n",
      "            179\t00000000000000000000000010110011\n",
      "        6815743\t00000000011001111111111111111111\n"
     ]
    }
   ],
   "source": [
    "#examples of masking\n",
    "sgn_mask=int('10000000000000000000000000000000',2)\n",
    "exp_mask=int('01111111100000000000000000000000',2)\n",
    "man_mask=int('00000000011111111111111111111111',2)\n",
    "test_123=int('11011001111001111111111111111111',2)\n",
    "\n",
    "ss=(test_123&sgn_mask)>>31\n",
    "ee=(test_123&exp_mask)>>23\n",
    "mm=test_123&man_mask\n",
    "\n",
    "for num in [sgn_mask, exp_mask, man_mask, test_123, ss, ee, mm]:\n",
    "    print('{let:>15}\\t{binary:032b}'.format(let=num, binary=(num)))"
   ]
  },
  {
   "cell_type": "markdown",
   "metadata": {},
   "source": [
    "3\\. Write a program to determine the underflow and overflow limits (within a factor of 2) for python on your computer. \n",
    "\n",
    "**Tips**: define two variables inizialized to 1 and halve/double them enough time to exceed the under/over-flow limits  "
   ]
  },
  {
   "cell_type": "code",
   "execution_count": 4,
   "metadata": {},
   "outputs": [
    {
     "name": "stdout",
     "output_type": "stream",
     "text": [
      "1075 5e-324 0.0\n",
      "5e-324\n"
     ]
    }
   ],
   "source": [
    "#solution 1\n",
    "underflow=1.0\n",
    "i=0\n",
    "\n",
    "while True:\n",
    "    i+=1\n",
    "    if underflow/2==0:\n",
    "        print(i, underflow, underflow/2)\n",
    "        break\n",
    "    else:\n",
    "        underflow=underflow/2\n",
    "\n",
    "#solution 2\n",
    "u=1\n",
    "while u>0:\n",
    "    if u/2==0:\n",
    "        print(u)\n",
    "    u/=2"
   ]
  },
  {
   "cell_type": "code",
   "execution_count": 5,
   "metadata": {},
   "outputs": [
    {
     "name": "stdout",
     "output_type": "stream",
     "text": [
      "1024 8.98846567431158e+307 inf\n",
      "8.98846567431158e+307\n"
     ]
    }
   ],
   "source": [
    "#solution 1\n",
    "import math\n",
    "overflow=1.0\n",
    "i=0\n",
    "\n",
    "while True:\n",
    "    i+=1\n",
    "    if overflow*2==math.inf:\n",
    "        print(i, overflow, overflow*2)\n",
    "        break\n",
    "    else:\n",
    "        overflow*=2\n",
    "        \n",
    "#solution 2       \n",
    "u=1.0\n",
    "while u<math.inf:\n",
    "    if u*2==math.inf:\n",
    "        print(u)\n",
    "    u*=2"
   ]
  },
  {
   "cell_type": "markdown",
   "metadata": {},
   "source": [
    "4\\. Write a program to determine the machine precision\n",
    "\n",
    "**Tips**: define a new variable by adding a smaller and smaller value (proceeding similarly to prob. 2) to an original variable and check the point where the two are the same "
   ]
  },
  {
   "cell_type": "code",
   "execution_count": 6,
   "metadata": {},
   "outputs": [
    {
     "name": "stdout",
     "output_type": "stream",
     "text": [
      "So... the limit is 2^-53\n"
     ]
    }
   ],
   "source": [
    "a=1.0\n",
    "i=1\n",
    "while True:\n",
    "    if a==a+2**(-i):\n",
    "        print('So... the limit is 2^-'+str(i) )\n",
    "        break\n",
    "    i+=1"
   ]
  },
  {
   "cell_type": "markdown",
   "metadata": {},
   "source": [
    "5\\. Write a function that takes in input three parameters $a$, $b$ and $c$ and prints out the two solutions to the quadratic equation $ax^2+bx+c=0$ using the standard formula:\n",
    "$$\n",
    "x=\\frac{-b\\pm\\sqrt{b^2-4ac}}{2a}\n",
    "$$\n",
    "\n",
    "(a) use the program to compute the solution for $a=0.001$, $b=1000$ and $c=0.001$\n",
    "\n",
    "(b) re-express the standard solution formula by multiplying top and bottom by $-b\\mp\\sqrt{b^2-4ac}$ and again find the solution for $a=0.001$, $b=1000$ and $c=0.001$. How does it compare with what previously obtained? Why?\n",
    "\n",
    "(c) write a function that compute the roots of a quadratic equation accurately in all cases"
   ]
  },
  {
   "cell_type": "code",
   "execution_count": 7,
   "metadata": {},
   "outputs": [
    {
     "name": "stdout",
     "output_type": "stream",
     "text": [
      "roots1 1.057540e-05 1.000008e-12\n",
      "roots2 1.000134e-12 3.338832e-05\n",
      "roots3 9.999224e-13 2.212221e-05\n",
      "roots4 9.999224e-13 1.000008e-12\n",
      "roots5 9.999224e-13 1.000008e-12\n"
     ]
    },
    {
     "data": {
      "text/plain": [
       "((-9.999894245993346e-07, -999999.999999),\n",
       " (-1.000000000001e-06, -999966.6116837071),\n",
       " (-1.0000000000009999e-06, -1000022.1222095027),\n",
       " (-1.0000000000009999e-06, -999999.999999),\n",
       " (-1.0000000000009999e-06, -999999.999999))"
      ]
     },
     "execution_count": 7,
     "metadata": {},
     "output_type": "execute_result"
    }
   ],
   "source": [
    "import numpy as np\n",
    "\n",
    "def precision(func):\n",
    "    def wrapper(*args, **kwargs):\n",
    "        x1,x2=func(*args, **kwargs)\n",
    "        if kwargs['b']>0:\n",
    "            print(func.__name__, '{a:.6e} {b:.6e}'.format(a=abs(x1+1e-6)/(1e-6), b=abs(x2+1e+6)/(1e+6)))\n",
    "        else:\n",
    "            print(func.__name__, '{a:.6e} {b:.6e}'.format(a=abs(x1-1e+6)/(1e+6), b=abs(x2-1e-6)/(1e-6)))\n",
    "        return x1,x2\n",
    "    return wrapper\n",
    "\n",
    "@precision\n",
    "def roots1(a,b,c):\n",
    "    delta=b*b-4.*a*c\n",
    "    x1=(-b+delta**(0.5))/(2.*a)\n",
    "    x2=(-b-delta**(0.5))/(2.*a)\n",
    "    return x1,x2\n",
    "\n",
    "@precision\n",
    "def roots2(a,b,c):\n",
    "    num=4.*a*c\n",
    "    delta=b*b-4*a*c\n",
    "    x1=num/(-2.*a*b-((2*a*b)**2-16*a**3*c)**(0.5))\n",
    "    x2=num/(-2.*a*b+((2*a*b)**2-16*a**3*c)**(0.5))\n",
    "    return x1,x2\n",
    "\n",
    "@precision\n",
    "def roots3(a,b,c):\n",
    "    num=4*a*c\n",
    "    delta=b*b-4*a*c\n",
    "    x1=4*a*c/(-2*a*b-2*a*(delta)**(0.5))\n",
    "    x2=4*a*c/(-2*a*b+2*a*(delta)**(0.5))\n",
    "    return x1,x2\n",
    "\n",
    "@precision\n",
    "def roots4(a,b,c):\n",
    "    num=4*a*c\n",
    "    delta=b*b-4*a*c\n",
    "    x1=4*a*c/(-2*a*b-2*a*(delta)**(0.5))\n",
    "    x2=(-b-delta**(0.5))/(2.*a)\n",
    "    return x1,x2\n",
    "\n",
    "@precision\n",
    "def roots5(a,b,c):\n",
    "    num=4*a*c\n",
    "    delta=b*b-4*a*c\n",
    "    if b>0:\n",
    "        x1=4*a*c/(-2*a*b-2*a*(delta)**(0.5))\n",
    "        x2=(-b-delta**(0.5))/(2.*a)\n",
    "    else:\n",
    "        x1=(-b+delta**(0.5))/(2.*a)\n",
    "        x2=4*a*c/(-2*a*b+2*a*(delta)**(0.5))\n",
    "\n",
    "    return x1,x2\n",
    "\n",
    "a=0.001\n",
    "b=1000\n",
    "c=0.001\n",
    "(roots1(a=a,b=b,c=c), roots2(a=a,b=b,c=c), roots3(a=a,b=b,c=c), roots4(a=a,b=b,c=c), roots5(a=a,b=b,c=c))"
   ]
  },
  {
   "cell_type": "markdown",
   "metadata": {},
   "source": [
    "# Answer to the question\n",
    "Apparently a greater precision is achieved in the computation of the roots of the polynomial if both the square root of the determinant $\\Delta$ and the $b$ coefficient are of the same sign e.g. both positive or negative.\n"
   ]
  },
  {
   "cell_type": "markdown",
   "metadata": {},
   "source": [
    "6\\. Write a program that implements the function $f(x)=x(x−1)$\n",
    "\n",
    "(a) Calculate the derivative of the function at the point $x = 1$ using the derivative definition:\n",
    "\n",
    "$$\n",
    "\\frac{{\\rm d}f}{{\\rm d}x} = \\lim_{\\delta\\to0} \\frac{f(x+\\delta)-f(x)}{\\delta}\n",
    "$$\n",
    "\n",
    "with $\\delta = 10^{−2}$. Calculate the true value of the same derivative analytically and compare with the answer your program gives. The two will not agree perfectly. Why not?\n",
    "\n",
    "(b) Repeat the calculation for $\\delta = 10^{−4}, 10^{−6}, 10^{−8}, 10^{−10}, 10^{−12}$ and $10^{−14}$. How does the accuracy scales with $\\delta$?"
   ]
  },
  {
   "cell_type": "code",
   "execution_count": 8,
   "metadata": {},
   "outputs": [
    {
     "name": "stdout",
     "output_type": "stream",
     "text": [
      "Delta: 1.00e-02\t Der: 1.0100000000\tErr: 1.00e+00\n",
      "Delta: 1.00e-04\t Der: 1.0001000000\tErr: 1.00e-02\n",
      "Delta: 1.00e-06\t Der: 1.0000009999\tErr: 1.00e-04\n",
      "Delta: 1.00e-08\t Der: 1.0000000039\tErr: 3.92e-07\n",
      "Delta: 1.00e-10\t Der: 1.0000000828\tErr: 8.28e-06\n",
      "Delta: 1.00e-12\t Der: 1.0000889006\tErr: 8.89e-03\n",
      "Delta: 1.00e-14\t Der: 0.9992007222\tErr: 7.99e-02\n"
     ]
    }
   ],
   "source": [
    "def f(x):\n",
    "    return x*(x-1)\n",
    "\n",
    "def der_def(delta, f, x):\n",
    "    return (f(x+delta)-f(x))/delta\n",
    "\n",
    "deltas=[10**(-2*i) for i in range(1,8)]\n",
    "for delta in deltas:\n",
    "    d=der_def(delta,f, 1)\n",
    "    print('Delta: {delta:.2e}\\t Der: {der:.10f}\\tErr: {err:.2e}'.format(delta=delta, der=d, err=(abs(d-1)/1*100)) )"
   ]
  },
  {
   "cell_type": "markdown",
   "metadata": {},
   "source": [
    "7\\. Consider the integral of the semicircle of radius 1:\n",
    "$$\n",
    "I=\\int_{-1}^{1} \\sqrt(1-x^2) {\\rm d}x\n",
    "$$\n",
    "which it's known to be $I=\\frac{\\pi}{2}=1.57079632679...$.\n",
    "Alternatively we can use the Riemann definition of the integral:\n",
    "$$\n",
    "I=\\lim_{N\\to\\infty} \\sum_{k=1}^{N} h y_k \n",
    "$$\n",
    "\n",
    "with $h=2/N$ the width of each of the $N$ slices the domain is divided into and where\n",
    "$y_k$ is the value of the function at the $k-$th slice.\n",
    "\n",
    "(a) Write a programe to compute the integral with $N=100$. How does the result compares to the true value?\n",
    "\n",
    "(b) How much can $N$ be increased if the computation needs to be run in less than a second? What is the gain in running it for 1 minute? \n"
   ]
  },
  {
   "cell_type": "code",
   "execution_count": 9,
   "metadata": {},
   "outputs": [
    {
     "name": "stdout",
     "output_type": "stream",
     "text": [
      "Total time: 1.73e-04 sec\n",
      "Res: 1.5691342555492505\tErr: 1.1e-01%\n",
      "Tru: 1.5707963267948966\tSub: 10^2\n",
      "Total time: 1.19e-03 sec\n",
      "Res: 1.570743738501071\tErr: 3.3e-03%\n",
      "Tru: 1.5707963267948966\tSub: 10^3\n",
      "Total time: 8.11e-03 sec\n",
      "Res: 1.570794663715291\tErr: 1.1e-04%\n",
      "Tru: 1.5707963267948966\tSub: 10^4\n",
      "Total time: 4.66e-02 sec\n",
      "Res: 1.5707962742034223\tErr: 3.3e-06%\n",
      "Tru: 1.5707963267948966\tSub: 10^5\n",
      "Total time: 3.64e-01 sec\n",
      "Res: 1.5707963251317274\tErr: 1.1e-07%\n",
      "Tru: 1.5707963267948966\tSub: 10^6\n",
      "Total time: 3.25e+00 sec\n",
      "Res: 1.5707963267423612\tErr: 3.3e-09%\n",
      "Tru: 1.5707963267948966\tSub: 10^7\n",
      "Total time: 3.14e+01 sec\n",
      "Res: 1.570796326793284\tErr: 1.0e-10%\n",
      "Tru: 1.5707963267948966\tSub: 10^8\n",
      "Total time: 5.74e+01 sec\n",
      "Res: 1.5707963267944416\tErr: 2.9e-11%\n",
      "Tru: 1.5707963267948966\tSub: 10^9\n"
     ]
    }
   ],
   "source": [
    "import math\n",
    "import time\n",
    "def func(x):\n",
    "    return (1-x**2)**(0.5)\n",
    "\n",
    "def timer(func):\n",
    "    def func_wrapper(*args, **kwargs):\n",
    "        t_s=time.time()\n",
    "        ret=func(*args, **kwargs)\n",
    "        t_total=time.time()-t_s\n",
    "        print('Total time: %.2e sec'%t_total)\n",
    "        return ret\n",
    "    return func_wrapper\n",
    "\n",
    "@timer\n",
    "def integrate(start, stop, N, func):\n",
    "    dx=(stop-start)/N\n",
    "    integral=0\n",
    "    for i in range(N):\n",
    "        x=start+dx*i\n",
    "        integral+=func(x)*dx\n",
    "    return integral\n",
    "\n",
    "def perc_error(i,N):\n",
    "    pi_half=integrate(-1,1,N, func)\n",
    "    perc=abs(pi_half- math.pi/2)/(math.pi/2)*100\n",
    "    print('Res: ',pi_half, '\\tErr: %.1e'%perc,'%','\\nTru: ', math.pi/2, '\\tSub: 10^',i, sep='')\n",
    "\n",
    "subdiv=[10**i for i in range(2,9)]\n",
    "subdiv.append(2*100000000)\n",
    "for i,n in enumerate(subdiv):\n",
    "    perc_error(i+2,n)"
   ]
  }
 ],
 "metadata": {
  "kernelspec": {
   "display_name": "Python 3 (ipykernel)",
   "language": "python",
   "name": "python3"
  },
  "language_info": {
   "codemirror_mode": {
    "name": "ipython",
    "version": 3
   },
   "file_extension": ".py",
   "mimetype": "text/x-python",
   "name": "python",
   "nbconvert_exporter": "python",
   "pygments_lexer": "ipython3",
   "version": "3.9.12"
  }
 },
 "nbformat": 4,
 "nbformat_minor": 2
}
