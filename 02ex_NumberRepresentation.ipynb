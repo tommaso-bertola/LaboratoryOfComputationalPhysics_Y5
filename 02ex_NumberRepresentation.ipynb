{
 "cells": [
  {
   "cell_type": "markdown",
   "metadata": {},
   "source": [
    "1\\. Write a function that converts number representation, bin<->dec<->hex. (Clearly using the corresponding python built-in functions is not fair..)"
   ]
  },
  {
   "cell_type": "code",
   "execution_count": 1,
   "metadata": {},
   "outputs": [
    {
     "data": {
      "text/plain": [
       "('101010', 42, 5)"
      ]
     },
     "execution_count": 1,
     "metadata": {},
     "output_type": "execute_result"
    }
   ],
   "source": [
    "def DecToBin(n):\n",
    "    remainders=[]\n",
    "    while int(n)>0:\n",
    "        remainders.append(str(n%2))\n",
    "        n=n//2\n",
    "    return \"\".join(remainders[::-1])\n",
    "    \n",
    "def BinToDec(s):\n",
    "    d=0\n",
    "    for i,c in enumerate(s[::-1]):\n",
    "        d+=int(c)*2**i\n",
    "    return d\n",
    "\n",
    "DecToBin(42), BinToDec(DecToBin(42)), BinToDec('0101')"
   ]
  },
  {
   "cell_type": "markdown",
   "metadata": {},
   "source": [
    "2\\. Write a function that converts a 32 bit word into a single precision floating point (i.e. interprets the various bits as sign, mantissa and exponent)\n",
    "\n",
    "Take a look [here](https://www.h-schmidt.net/FloatConverter/IEEE754.html) to check"
   ]
  },
  {
   "cell_type": "code",
   "execution_count": 2,
   "metadata": {},
   "outputs": [
    {
     "name": "stdout",
     "output_type": "stream",
     "text": [
      "sgn 0\n",
      "exp 132\n",
      "d_man 0.3125\n"
     ]
    },
    {
     "data": {
      "text/plain": [
       "42.0"
      ]
     },
     "execution_count": 2,
     "metadata": {},
     "output_type": "execute_result"
    }
   ],
   "source": [
    "def WordToFloat(s):\n",
    "    sgn=int(s[0])\n",
    "    exp=BinToDec(s[1:9])\n",
    "    man=BinToDec(s[9:32])\n",
    "    d_man=man/(2**23)\n",
    "    print('sgn',sgn)\n",
    "    print('exp',exp)\n",
    "    print('d_man', d_man)\n",
    "    return ((-1)**sgn)*(2**(exp-127))*(1+d_man)\n",
    "\n",
    "WordToFloat('01000010001010000000000000000000')"
   ]
  },
  {
   "cell_type": "markdown",
   "metadata": {},
   "source": [
    "3\\. Write a program to determine the underflow and overflow limits (within a factor of 2) for python on your computer. \n",
    "\n",
    "**Tips**: define two variables inizialized to 1 and halve/double them enough time to exceed the under/over-flow limits  "
   ]
  },
  {
   "cell_type": "code",
   "execution_count": 3,
   "metadata": {},
   "outputs": [
    {
     "name": "stdout",
     "output_type": "stream",
     "text": [
      "1075 0.0\n"
     ]
    }
   ],
   "source": [
    "underflow=1.0\n",
    "attempts=1075\n",
    "\n",
    "for i in range(attempts):\n",
    "    underflow=underflow/2\n",
    "    if underflow==0:\n",
    "        print(i+1, underflow)\n",
    "        break"
   ]
  },
  {
   "cell_type": "code",
   "execution_count": 4,
   "metadata": {},
   "outputs": [
    {
     "name": "stdout",
     "output_type": "stream",
     "text": [
      "1024 inf\n"
     ]
    }
   ],
   "source": [
    "import math\n",
    "overflow=1.0\n",
    "for i in range(attempts):\n",
    "    overflow=overflow*2\n",
    "    if overflow==math.inf:\n",
    "        print(i+1, overflow)\n",
    "        break"
   ]
  },
  {
   "cell_type": "markdown",
   "metadata": {},
   "source": [
    "4\\. Write a program to determine the machine precision\n",
    "\n",
    "**Tips**: define a new variable by adding a smaller and smaller value (proceeding similarly to prob. 2) to an original variable and check the point where the two are the same "
   ]
  },
  {
   "cell_type": "code",
   "execution_count": 5,
   "metadata": {},
   "outputs": [
    {
     "name": "stdout",
     "output_type": "stream",
     "text": [
      "So... the limit is 10^-16\n"
     ]
    }
   ],
   "source": [
    "a=1.0\n",
    "i=1\n",
    "while True:\n",
    "    if a==a+10**(-i):\n",
    "        print('So... the limit is 10^-'+str(i) )\n",
    "        break\n",
    "    i+=1"
   ]
  },
  {
   "cell_type": "markdown",
   "metadata": {},
   "source": [
    "5\\. Write a function that takes in input three parameters $a$, $b$ and $c$ and prints out the two solutions to the quadratic equation $ax^2+bx+c=0$ using the standard formula:\n",
    "$$\n",
    "x=\\frac{-b\\pm\\sqrt{b^2-4ac}}{2a}\n",
    "$$\n",
    "\n",
    "(a) use the program to compute the solution for $a=0.001$, $b=1000$ and $c=0.001$\n",
    "\n",
    "(b) re-express the standard solution formula by multiplying top and bottom by $-b\\mp\\sqrt{b^2-4ac}$ and again find the solution for $a=0.001$, $b=1000$ and $c=0.001$. How does it compare with what previously obtained? Why?\n",
    "\n",
    "(c) write a function that compute the roots of a quadratic equation accurately in all cases"
   ]
  },
  {
   "cell_type": "code",
   "execution_count": 6,
   "metadata": {},
   "outputs": [
    {
     "data": {
      "text/plain": [
       "((-9.999894245993345e-13, -0.999999999999),\n",
       " (-1.0000000000009999e-06, -1000010.5755125057))"
      ]
     },
     "execution_count": 6,
     "metadata": {},
     "output_type": "execute_result"
    }
   ],
   "source": [
    "def roots(a,b,c):\n",
    "    delta=b*b-4*a*c\n",
    "    x1=(-b+delta**(0.5))/2*a\n",
    "    x2=(-b-delta**(0.5))/2*a\n",
    "    return x1,x2\n",
    "\n",
    "def roots2(a,b,c):\n",
    "    num=4*a*c\n",
    "    delta=b*b-4*a*c\n",
    "    x1=num/(2*a*(-b-delta**(0.5)))\n",
    "    x2=num/(2*a*(-b+delta**(0.5)))\n",
    "    return x1,x2\n",
    "\n",
    "roots(0.001,1000,0.001), roots2(0.001,1000,0.001)"
   ]
  },
  {
   "cell_type": "markdown",
   "metadata": {},
   "source": [
    "6\\. Write a program that implements the function $f(x)=x(x−1)$\n",
    "\n",
    "(a) Calculate the derivative of the function at the point $x = 1$ using the derivative definition:\n",
    "\n",
    "$$\n",
    "\\frac{{\\rm d}f}{{\\rm d}x} = \\lim_{\\delta\\to0} \\frac{f(x+\\delta)-f(x)}{\\delta}\n",
    "$$\n",
    "\n",
    "with $\\delta = 10^{−2}$. Calculate the true value of the same derivative analytically and compare with the answer your program gives. The two will not agree perfectly. Why not?\n",
    "\n",
    "(b) Repeat the calculation for $\\delta = 10^{−4}, 10^{−6}, 10^{−8}, 10^{−10}, 10^{−12}$ and $10^{−14}$. How does the accuracy scales with $\\delta$?"
   ]
  },
  {
   "cell_type": "code",
   "execution_count": 7,
   "metadata": {},
   "outputs": [
    {
     "name": "stdout",
     "output_type": "stream",
     "text": [
      "Delta: 1.00e-02\t Der: 1.0100000000\tErr: 1.00e+00\n",
      "Delta: 1.00e-04\t Der: 1.0001000000\tErr: 1.00e-02\n",
      "Delta: 1.00e-06\t Der: 1.0000009999\tErr: 1.00e-04\n",
      "Delta: 1.00e-08\t Der: 1.0000000039\tErr: 3.92e-07\n",
      "Delta: 1.00e-10\t Der: 1.0000000828\tErr: 8.28e-06\n",
      "Delta: 1.00e-12\t Der: 1.0000889006\tErr: 8.89e-03\n",
      "Delta: 1.00e-14\t Der: 0.9992007222\tErr: 7.99e-02\n"
     ]
    }
   ],
   "source": [
    "def f(x):\n",
    "    return x*(x-1)\n",
    "\n",
    "def der_def(delta, f, x):\n",
    "    return (f(x+delta)-f(x))/delta\n",
    "\n",
    "deltas=[10**(-2*i) for i in range(1,8)]\n",
    "for delta in deltas:\n",
    "    d=der_def(delta,f, 1)\n",
    "    print('Delta: {delta:.2e}\\t Der: {der:.10f}\\tErr: {err:.2e}'.format(delta=delta, der=d, err=(abs(d-1)/1*100)) )"
   ]
  },
  {
   "cell_type": "markdown",
   "metadata": {},
   "source": [
    "7\\. Consider the integral of the semicircle of radius 1:\n",
    "$$\n",
    "I=\\int_{-1}^{1} \\sqrt(1-x^2) {\\rm d}x\n",
    "$$\n",
    "which it's known to be $I=\\frac{\\pi}{2}=1.57079632679...$.\n",
    "Alternatively we can use the Riemann definition of the integral:\n",
    "$$\n",
    "I=\\lim_{N\\to\\infty} \\sum_{k=1}^{N} h y_k \n",
    "$$\n",
    "\n",
    "with $h=2/N$ the width of each of the $N$ slices the domain is divided into and where\n",
    "$y_k$ is the value of the function at the $k-$th slice.\n",
    "\n",
    "(a) Write a programe to compute the integral with $N=100$. How does the result compares to the true value?\n",
    "\n",
    "(b) How much can $N$ be increased if the computation needs to be run in less than a second? What is the gain in running it for 1 minute? \n"
   ]
  },
  {
   "cell_type": "code",
   "execution_count": 8,
   "metadata": {},
   "outputs": [
    {
     "name": "stdout",
     "output_type": "stream",
     "text": [
      "Total time: 4.51e-05 sec\n",
      "Res: 1.5691342555492505\tErr: 1.1e-01%\n",
      "Tru: 1.5707963267948966\tSub: 10^2\n",
      "Total time: 3.04e-04 sec\n",
      "Res: 1.570743738501071\tErr: 3.3e-03%\n",
      "Tru: 1.5707963267948966\tSub: 10^3\n",
      "Total time: 2.93e-03 sec\n",
      "Res: 1.570794663715291\tErr: 1.1e-04%\n",
      "Tru: 1.5707963267948966\tSub: 10^4\n",
      "Total time: 6.27e-02 sec\n",
      "Res: 1.5707962742034223\tErr: 3.3e-06%\n",
      "Tru: 1.5707963267948966\tSub: 10^5\n",
      "Total time: 2.93e-01 sec\n",
      "Res: 1.5707963251317274\tErr: 1.1e-07%\n",
      "Tru: 1.5707963267948966\tSub: 10^6\n",
      "Total time: 2.92e+00 sec\n",
      "Res: 1.5707963267423612\tErr: 3.3e-09%\n",
      "Tru: 1.5707963267948966\tSub: 10^7\n",
      "Total time: 2.90e+01 sec\n",
      "Res: 1.570796326793284\tErr: 1.0e-10%\n",
      "Tru: 1.5707963267948966\tSub: 10^8\n",
      "Total time: 6.41e+01 sec\n",
      "Res: 1.5707963267944416\tErr: 2.9e-11%\n",
      "Tru: 1.5707963267948966\tSub: 10^9\n"
     ]
    }
   ],
   "source": [
    "import math\n",
    "import time\n",
    "def func(x):\n",
    "    return (1-x**2)**(0.5)\n",
    "\n",
    "def timer(func):\n",
    "    def func_wrapper(*args, **kwargs):\n",
    "        t_s=time.time()\n",
    "        ret=func(*args, **kwargs)\n",
    "        t_total=time.time()-t_s\n",
    "        print('Total time: %.2e sec'%t_total)\n",
    "        return ret\n",
    "    return func_wrapper\n",
    "\n",
    "@timer\n",
    "def integrate(start, stop, N, func):\n",
    "    dx=(stop-start)/N\n",
    "    integral=0\n",
    "    for i in range(N):\n",
    "        x=start+dx*i\n",
    "        integral+=func(x)*dx\n",
    "    return integral\n",
    "\n",
    "def perc_error(i,N):\n",
    "    pi_half=integrate(-1,1,N, func)\n",
    "    perc=abs(pi_half- math.pi/2)/(math.pi/2)*100\n",
    "    print('Res: ',pi_half, '\\tErr: %.1e'%perc,'%','\\nTru: ', math.pi/2, '\\tSub: 10^',i, sep='')\n",
    "\n",
    "subdiv=[10**i for i in range(2,9)]\n",
    "subdiv.append(2*100000000)\n",
    "for i,n in enumerate(subdiv):\n",
    "    perc_error(i+2,n)"
   ]
  }
 ],
 "metadata": {
  "kernelspec": {
   "display_name": "Python 3 (ipykernel)",
   "language": "python",
   "name": "python3"
  },
  "language_info": {
   "codemirror_mode": {
    "name": "ipython",
    "version": 3
   },
   "file_extension": ".py",
   "mimetype": "text/x-python",
   "name": "python",
   "nbconvert_exporter": "python",
   "pygments_lexer": "ipython3",
   "version": "3.9.12"
  }
 },
 "nbformat": 4,
 "nbformat_minor": 2
}
